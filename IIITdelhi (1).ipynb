{
 "cells": [
  {
   "cell_type": "code",
   "execution_count": 1,
   "metadata": {},
   "outputs": [],
   "source": [
    "'''\n",
    "Importing packages \n",
    "import modules we're able to call functions\n",
    "use of modules allows us to make our programs more robust and powerful \n",
    "\n",
    "'''\n",
    "\n",
    "\n",
    "import numpy as np \n",
    "import pandas as pd \n",
    "import matplotlib.pyplot as plt\n",
    "import seaborn as sns\n",
    "import re \n",
    "import nltk \n",
    "from sklearn import preprocessing\n",
    "from sklearn.model_selection import train_test_split\n",
    "from sklearn.feature_extraction.text import CountVectorizer\n",
    "from sklearn.naive_bayes import MultinomialNB\n",
    "from sklearn.metrics import classification_report\n",
    "from sklearn.feature_extraction.text import TfidfVectorizer\n"
   ]
  },
  {
   "cell_type": "code",
   "execution_count": 2,
   "metadata": {},
   "outputs": [],
   "source": [
    "def preprocess_string(str_arg):\n",
    "    '''\n",
    "    input: str_arg --> Takes string to clean\n",
    "    output: cleaned_str --> Gives back cleaned string\n",
    "    This fuction cleans the text in the mentioned ways as comments after the line.This has been copied from some other kernel.\n",
    "\n",
    "    '''\n",
    "    cleaned_str=re.sub('[^a-z\\s]+',' ',str_arg,flags=re.IGNORECASE) #every char except alphabets is replaced\n",
    "    cleaned_str=re.sub('(\\s+)',' ',cleaned_str) #multiple spaces are replaced by single space\n",
    "    cleaned_str=cleaned_str.lower() #converting the cleaned string to lower case\n",
    "    \n",
    "    return cleaned_str # Returning the preprocessed string in tokenized form\n"
   ]
  },
  {
   "cell_type": "code",
   "execution_count": 3,
   "metadata": {},
   "outputs": [
    {
     "name": "stdout",
     "output_type": "stream",
     "text": [
      "['Clothing', 'Footwear', 'Beauty and Personal Care', 'Home Decor & Festive Needs', 'Automotive', 'Home Furnishing', 'Mobiles & Accessories', 'Jewellery', 'Kitchen & Dining', 'Computers']\n"
     ]
    }
   ],
   "source": [
    "'''\n",
    "#This code block is for reading and cleaning data.\n",
    "\n",
    "'''\n",
    "data_df = pd.read_csv(r'C:\\Users\\Umra Khan\\Downloads\\flipkart_com-ecommerce_sample.csv/flipkart_com-ecommerce_sample.csv')\n",
    "# Reading relevant data\n",
    "data_df['product_category_tree'] = data_df['product_category_tree'].apply(lambda x : x.split('>>')[0][2:].strip())\n",
    "# Category processing. (Check data to understand)\n",
    "top_ten_gen = list(data_df.groupby('product_category_tree').count().sort_values(by='uniq_id',ascending=False).head(10).index)\n",
    "# Taking only top 10 categories for example sake\n",
    "processed_df = data_df[data_df['product_category_tree'].isin(top_ten_gen)][['product_category_tree','description']]\n",
    "# Selecting only relevant columns\n",
    "processed_df['description'] = processed_df['description'].astype('str').apply(preprocess_string)\n",
    "# Cleaning strings\n",
    "cat_list = list(processed_df['product_category_tree'].unique())\n",
    "# Creating a list of categories for later use\n",
    "print(cat_list)\n",
    "# Printing the list of top 10 categories\n",
    "le = preprocessing.LabelEncoder()\n",
    "category_encoded=le.fit_transform(processed_df['product_category_tree'])\n",
    "processed_df['product_category_tree'] = category_encoded\n",
    "# Encoding the product category\n"
   ]
  },
  {
   "cell_type": "code",
   "execution_count": 4,
   "metadata": {},
   "outputs": [
    {
     "name": "stdout",
     "output_type": "stream",
     "text": [
      "<class 'pandas.core.frame.DataFrame'>\n",
      "RangeIndex: 20000 entries, 0 to 19999\n",
      "Data columns (total 15 columns):\n",
      "uniq_id                    20000 non-null object\n",
      "crawl_timestamp            20000 non-null object\n",
      "product_url                20000 non-null object\n",
      "product_name               20000 non-null object\n",
      "product_category_tree      20000 non-null object\n",
      "pid                        20000 non-null object\n",
      "retail_price               19922 non-null float64\n",
      "discounted_price           19922 non-null float64\n",
      "image                      19997 non-null object\n",
      "is_FK_Advantage_product    20000 non-null bool\n",
      "description                19998 non-null object\n",
      "product_rating             20000 non-null object\n",
      "overall_rating             20000 non-null object\n",
      "brand                      14136 non-null object\n",
      "product_specifications     19986 non-null object\n",
      "dtypes: bool(1), float64(2), object(12)\n",
      "memory usage: 2.2+ MB\n"
     ]
    }
   ],
   "source": [
    "data_df.info()\n",
    "#it gives the summary of the dataframe"
   ]
  },
  {
   "cell_type": "code",
   "execution_count": 5,
   "metadata": {},
   "outputs": [
    {
     "data": {
      "text/plain": [
       "(20000, 15)"
      ]
     },
     "execution_count": 5,
     "metadata": {},
     "output_type": "execute_result"
    }
   ],
   "source": [
    "data_df.shape\n",
    "#this gives the size of the dataframe"
   ]
  },
  {
   "cell_type": "code",
   "execution_count": 6,
   "metadata": {},
   "outputs": [
    {
     "data": {
      "text/plain": [
       "Index(['uniq_id', 'crawl_timestamp', 'product_url', 'product_name',\n",
       "       'product_category_tree', 'pid', 'retail_price', 'discounted_price',\n",
       "       'image', 'is_FK_Advantage_product', 'description', 'product_rating',\n",
       "       'overall_rating', 'brand', 'product_specifications'],\n",
       "      dtype='object')"
      ]
     },
     "execution_count": 6,
     "metadata": {},
     "output_type": "execute_result"
    }
   ],
   "source": [
    "data_df.columns\n",
    "#gives the columns which is presnt in the dataframe \n"
   ]
  },
  {
   "cell_type": "code",
   "execution_count": 7,
   "metadata": {},
   "outputs": [
    {
     "data": {
      "text/plain": [
       "<bound method NDFrame.describe of                                 uniq_id            crawl_timestamp  \\\n",
       "0      c2d766ca982eca8304150849735ffef9  2016-03-25 22:59:23 +0000   \n",
       "1      7f7036a6d550aaa89d34c77bd39a5e48  2016-03-25 22:59:23 +0000   \n",
       "2      f449ec65dcbc041b6ae5e6a32717d01b  2016-03-25 22:59:23 +0000   \n",
       "3      0973b37acd0c664e3de26e97e5571454  2016-03-25 22:59:23 +0000   \n",
       "4      bc940ea42ee6bef5ac7cea3fb5cfbee7  2016-03-25 22:59:23 +0000   \n",
       "...                                 ...                        ...   \n",
       "19995  7179d2f6c4ad50a17d014ca1d2815156  2015-12-01 10:15:43 +0000   \n",
       "19996  71ac419198359d37b8fe5e3fffdfee09  2015-12-01 10:15:43 +0000   \n",
       "19997  93e9d343837400ce0d7980874ece471c  2015-12-01 10:15:43 +0000   \n",
       "19998  669e79b8fa5d9ae020841c0c97d5e935  2015-12-01 10:15:43 +0000   \n",
       "19999  cb4fa87a874f715fff567f7b7b3be79c  2015-12-01 10:15:43 +0000   \n",
       "\n",
       "                                             product_url  \\\n",
       "0      http://www.flipkart.com/alisha-solid-women-s-c...   \n",
       "1      http://www.flipkart.com/fabhomedecor-fabric-do...   \n",
       "2      http://www.flipkart.com/aw-bellies/p/itmeh4grg...   \n",
       "3      http://www.flipkart.com/alisha-solid-women-s-c...   \n",
       "4      http://www.flipkart.com/sicons-all-purpose-arn...   \n",
       "...                                                  ...   \n",
       "19995  http://www.flipkart.com/walldesign-small-vinyl...   \n",
       "19996  http://www.flipkart.com/wallmantra-large-vinyl...   \n",
       "19997  http://www.flipkart.com/elite-collection-mediu...   \n",
       "19998  http://www.flipkart.com/elite-collection-mediu...   \n",
       "19999  http://www.flipkart.com/elite-collection-mediu...   \n",
       "\n",
       "                                  product_name product_category_tree  \\\n",
       "0          Alisha Solid Women's Cycling Shorts              Clothing   \n",
       "1          FabHomeDecor Fabric Double Sofa Bed             Furniture   \n",
       "2                                   AW Bellies              Footwear   \n",
       "3          Alisha Solid Women's Cycling Shorts              Clothing   \n",
       "4        Sicons All Purpose Arnica Dog Shampoo          Pet Supplies   \n",
       "...                                        ...                   ...   \n",
       "19995           WallDesign Small Vinyl Sticker             Baby Care   \n",
       "19996  Wallmantra Large Vinyl Stickers Sticker             Baby Care   \n",
       "19997  Elite Collection Medium Acrylic Sticker             Baby Care   \n",
       "19998  Elite Collection Medium Acrylic Sticker             Baby Care   \n",
       "19999  Elite Collection Medium Acrylic Sticker             Baby Care   \n",
       "\n",
       "                    pid  retail_price  discounted_price  \\\n",
       "0      SRTEH2FF9KEDEFGF         999.0             379.0   \n",
       "1      SBEEH3QGU7MFYJFY       32157.0           22646.0   \n",
       "2      SHOEH4GRSUBJGZXE         999.0             499.0   \n",
       "3      SRTEH2F6HUZMQ6SJ         699.0             267.0   \n",
       "4      PSOEH3ZYDMSYARJ5         220.0             210.0   \n",
       "...                 ...           ...               ...   \n",
       "19995  STIE7KFJAKSTDY9G        1500.0             730.0   \n",
       "19996  STIE9F5URNQGJCGH        1429.0            1143.0   \n",
       "19997  STIE7VAYDKQZEBSD        1299.0             999.0   \n",
       "19998  STIE8YSVEPPCZ42Y        1499.0            1199.0   \n",
       "19999  STIE88KN9ZDSGZKY        1499.0             999.0   \n",
       "\n",
       "                                                   image  \\\n",
       "0      [\"http://img5a.flixcart.com/image/short/u/4/a/...   \n",
       "1      [\"http://img6a.flixcart.com/image/sofa-bed/j/f...   \n",
       "2      [\"http://img5a.flixcart.com/image/shoe/7/z/z/r...   \n",
       "3      [\"http://img5a.flixcart.com/image/short/6/2/h/...   \n",
       "4      [\"http://img5a.flixcart.com/image/pet-shampoo/...   \n",
       "...                                                  ...   \n",
       "19995  [\"http://img6a.flixcart.com/image/wall-decorat...   \n",
       "19996  [\"http://img6a.flixcart.com/image/sticker/z/g/...   \n",
       "19997  [\"http://img5a.flixcart.com/image/sticker/b/s/...   \n",
       "19998  [\"http://img5a.flixcart.com/image/sticker/4/2/...   \n",
       "19999  [\"http://img6a.flixcart.com/image/sticker/z/k/...   \n",
       "\n",
       "       is_FK_Advantage_product  \\\n",
       "0                        False   \n",
       "1                        False   \n",
       "2                        False   \n",
       "3                        False   \n",
       "4                        False   \n",
       "...                        ...   \n",
       "19995                    False   \n",
       "19996                    False   \n",
       "19997                    False   \n",
       "19998                    False   \n",
       "19999                    False   \n",
       "\n",
       "                                             description       product_rating  \\\n",
       "0      Key Features of Alisha Solid Women's Cycling S...  No rating available   \n",
       "1      FabHomeDecor Fabric Double Sofa Bed (Finish Co...  No rating available   \n",
       "2      Key Features of AW Bellies Sandals Wedges Heel...  No rating available   \n",
       "3      Key Features of Alisha Solid Women's Cycling S...  No rating available   \n",
       "4      Specifications of Sicons All Purpose Arnica Do...  No rating available   \n",
       "...                                                  ...                  ...   \n",
       "19995  Buy WallDesign Small Vinyl Sticker for Rs.730 ...  No rating available   \n",
       "19996  Buy Wallmantra Large Vinyl Stickers Sticker fo...  No rating available   \n",
       "19997  Buy Elite Collection Medium Acrylic Sticker fo...  No rating available   \n",
       "19998  Buy Elite Collection Medium Acrylic Sticker fo...  No rating available   \n",
       "19999  Buy Elite Collection Medium Acrylic Sticker fo...  No rating available   \n",
       "\n",
       "            overall_rating             brand  \\\n",
       "0      No rating available            Alisha   \n",
       "1      No rating available      FabHomeDecor   \n",
       "2      No rating available                AW   \n",
       "3      No rating available            Alisha   \n",
       "4      No rating available            Sicons   \n",
       "...                    ...               ...   \n",
       "19995  No rating available        WallDesign   \n",
       "19996  No rating available        Wallmantra   \n",
       "19997  No rating available  Elite Collection   \n",
       "19998  No rating available  Elite Collection   \n",
       "19999  No rating available  Elite Collection   \n",
       "\n",
       "                                  product_specifications  \n",
       "0      {\"product_specification\"=>[{\"key\"=>\"Number of ...  \n",
       "1      {\"product_specification\"=>[{\"key\"=>\"Installati...  \n",
       "2      {\"product_specification\"=>[{\"key\"=>\"Ideal For\"...  \n",
       "3      {\"product_specification\"=>[{\"key\"=>\"Number of ...  \n",
       "4      {\"product_specification\"=>[{\"key\"=>\"Pet Type\",...  \n",
       "...                                                  ...  \n",
       "19995  {\"product_specification\"=>[{\"key\"=>\"Number of ...  \n",
       "19996  {\"product_specification\"=>[{\"key\"=>\"Number of ...  \n",
       "19997  {\"product_specification\"=>[{\"key\"=>\"Number of ...  \n",
       "19998  {\"product_specification\"=>[{\"key\"=>\"Number of ...  \n",
       "19999  {\"product_specification\"=>[{\"key\"=>\"Number of ...  \n",
       "\n",
       "[20000 rows x 15 columns]>"
      ]
     },
     "execution_count": 7,
     "metadata": {},
     "output_type": "execute_result"
    }
   ],
   "source": [
    "data_df.describe\n",
    "#it is used to view statistical detailes such as mean,std, percentile"
   ]
  },
  {
   "cell_type": "code",
   "execution_count": 8,
   "metadata": {},
   "outputs": [
    {
     "data": {
      "text/html": [
       "<div>\n",
       "<style scoped>\n",
       "    .dataframe tbody tr th:only-of-type {\n",
       "        vertical-align: middle;\n",
       "    }\n",
       "\n",
       "    .dataframe tbody tr th {\n",
       "        vertical-align: top;\n",
       "    }\n",
       "\n",
       "    .dataframe thead th {\n",
       "        text-align: right;\n",
       "    }\n",
       "</style>\n",
       "<table border=\"1\" class=\"dataframe\">\n",
       "  <thead>\n",
       "    <tr style=\"text-align: right;\">\n",
       "      <th></th>\n",
       "      <th>uniq_id</th>\n",
       "      <th>crawl_timestamp</th>\n",
       "      <th>product_url</th>\n",
       "      <th>product_name</th>\n",
       "      <th>product_category_tree</th>\n",
       "      <th>pid</th>\n",
       "      <th>retail_price</th>\n",
       "      <th>discounted_price</th>\n",
       "      <th>image</th>\n",
       "      <th>is_FK_Advantage_product</th>\n",
       "      <th>description</th>\n",
       "      <th>product_rating</th>\n",
       "      <th>overall_rating</th>\n",
       "      <th>brand</th>\n",
       "      <th>product_specifications</th>\n",
       "    </tr>\n",
       "  </thead>\n",
       "  <tbody>\n",
       "    <tr>\n",
       "      <td>0</td>\n",
       "      <td>c2d766ca982eca8304150849735ffef9</td>\n",
       "      <td>2016-03-25 22:59:23 +0000</td>\n",
       "      <td>http://www.flipkart.com/alisha-solid-women-s-c...</td>\n",
       "      <td>Alisha Solid Women's Cycling Shorts</td>\n",
       "      <td>Clothing</td>\n",
       "      <td>SRTEH2FF9KEDEFGF</td>\n",
       "      <td>999.0</td>\n",
       "      <td>379.0</td>\n",
       "      <td>[\"http://img5a.flixcart.com/image/short/u/4/a/...</td>\n",
       "      <td>False</td>\n",
       "      <td>Key Features of Alisha Solid Women's Cycling S...</td>\n",
       "      <td>No rating available</td>\n",
       "      <td>No rating available</td>\n",
       "      <td>Alisha</td>\n",
       "      <td>{\"product_specification\"=&gt;[{\"key\"=&gt;\"Number of ...</td>\n",
       "    </tr>\n",
       "    <tr>\n",
       "      <td>1</td>\n",
       "      <td>7f7036a6d550aaa89d34c77bd39a5e48</td>\n",
       "      <td>2016-03-25 22:59:23 +0000</td>\n",
       "      <td>http://www.flipkart.com/fabhomedecor-fabric-do...</td>\n",
       "      <td>FabHomeDecor Fabric Double Sofa Bed</td>\n",
       "      <td>Furniture</td>\n",
       "      <td>SBEEH3QGU7MFYJFY</td>\n",
       "      <td>32157.0</td>\n",
       "      <td>22646.0</td>\n",
       "      <td>[\"http://img6a.flixcart.com/image/sofa-bed/j/f...</td>\n",
       "      <td>False</td>\n",
       "      <td>FabHomeDecor Fabric Double Sofa Bed (Finish Co...</td>\n",
       "      <td>No rating available</td>\n",
       "      <td>No rating available</td>\n",
       "      <td>FabHomeDecor</td>\n",
       "      <td>{\"product_specification\"=&gt;[{\"key\"=&gt;\"Installati...</td>\n",
       "    </tr>\n",
       "    <tr>\n",
       "      <td>2</td>\n",
       "      <td>f449ec65dcbc041b6ae5e6a32717d01b</td>\n",
       "      <td>2016-03-25 22:59:23 +0000</td>\n",
       "      <td>http://www.flipkart.com/aw-bellies/p/itmeh4grg...</td>\n",
       "      <td>AW Bellies</td>\n",
       "      <td>Footwear</td>\n",
       "      <td>SHOEH4GRSUBJGZXE</td>\n",
       "      <td>999.0</td>\n",
       "      <td>499.0</td>\n",
       "      <td>[\"http://img5a.flixcart.com/image/shoe/7/z/z/r...</td>\n",
       "      <td>False</td>\n",
       "      <td>Key Features of AW Bellies Sandals Wedges Heel...</td>\n",
       "      <td>No rating available</td>\n",
       "      <td>No rating available</td>\n",
       "      <td>AW</td>\n",
       "      <td>{\"product_specification\"=&gt;[{\"key\"=&gt;\"Ideal For\"...</td>\n",
       "    </tr>\n",
       "    <tr>\n",
       "      <td>3</td>\n",
       "      <td>0973b37acd0c664e3de26e97e5571454</td>\n",
       "      <td>2016-03-25 22:59:23 +0000</td>\n",
       "      <td>http://www.flipkart.com/alisha-solid-women-s-c...</td>\n",
       "      <td>Alisha Solid Women's Cycling Shorts</td>\n",
       "      <td>Clothing</td>\n",
       "      <td>SRTEH2F6HUZMQ6SJ</td>\n",
       "      <td>699.0</td>\n",
       "      <td>267.0</td>\n",
       "      <td>[\"http://img5a.flixcart.com/image/short/6/2/h/...</td>\n",
       "      <td>False</td>\n",
       "      <td>Key Features of Alisha Solid Women's Cycling S...</td>\n",
       "      <td>No rating available</td>\n",
       "      <td>No rating available</td>\n",
       "      <td>Alisha</td>\n",
       "      <td>{\"product_specification\"=&gt;[{\"key\"=&gt;\"Number of ...</td>\n",
       "    </tr>\n",
       "    <tr>\n",
       "      <td>4</td>\n",
       "      <td>bc940ea42ee6bef5ac7cea3fb5cfbee7</td>\n",
       "      <td>2016-03-25 22:59:23 +0000</td>\n",
       "      <td>http://www.flipkart.com/sicons-all-purpose-arn...</td>\n",
       "      <td>Sicons All Purpose Arnica Dog Shampoo</td>\n",
       "      <td>Pet Supplies</td>\n",
       "      <td>PSOEH3ZYDMSYARJ5</td>\n",
       "      <td>220.0</td>\n",
       "      <td>210.0</td>\n",
       "      <td>[\"http://img5a.flixcart.com/image/pet-shampoo/...</td>\n",
       "      <td>False</td>\n",
       "      <td>Specifications of Sicons All Purpose Arnica Do...</td>\n",
       "      <td>No rating available</td>\n",
       "      <td>No rating available</td>\n",
       "      <td>Sicons</td>\n",
       "      <td>{\"product_specification\"=&gt;[{\"key\"=&gt;\"Pet Type\",...</td>\n",
       "    </tr>\n",
       "  </tbody>\n",
       "</table>\n",
       "</div>"
      ],
      "text/plain": [
       "                            uniq_id            crawl_timestamp  \\\n",
       "0  c2d766ca982eca8304150849735ffef9  2016-03-25 22:59:23 +0000   \n",
       "1  7f7036a6d550aaa89d34c77bd39a5e48  2016-03-25 22:59:23 +0000   \n",
       "2  f449ec65dcbc041b6ae5e6a32717d01b  2016-03-25 22:59:23 +0000   \n",
       "3  0973b37acd0c664e3de26e97e5571454  2016-03-25 22:59:23 +0000   \n",
       "4  bc940ea42ee6bef5ac7cea3fb5cfbee7  2016-03-25 22:59:23 +0000   \n",
       "\n",
       "                                         product_url  \\\n",
       "0  http://www.flipkart.com/alisha-solid-women-s-c...   \n",
       "1  http://www.flipkart.com/fabhomedecor-fabric-do...   \n",
       "2  http://www.flipkart.com/aw-bellies/p/itmeh4grg...   \n",
       "3  http://www.flipkart.com/alisha-solid-women-s-c...   \n",
       "4  http://www.flipkart.com/sicons-all-purpose-arn...   \n",
       "\n",
       "                            product_name product_category_tree  \\\n",
       "0    Alisha Solid Women's Cycling Shorts              Clothing   \n",
       "1    FabHomeDecor Fabric Double Sofa Bed             Furniture   \n",
       "2                             AW Bellies              Footwear   \n",
       "3    Alisha Solid Women's Cycling Shorts              Clothing   \n",
       "4  Sicons All Purpose Arnica Dog Shampoo          Pet Supplies   \n",
       "\n",
       "                pid  retail_price  discounted_price  \\\n",
       "0  SRTEH2FF9KEDEFGF         999.0             379.0   \n",
       "1  SBEEH3QGU7MFYJFY       32157.0           22646.0   \n",
       "2  SHOEH4GRSUBJGZXE         999.0             499.0   \n",
       "3  SRTEH2F6HUZMQ6SJ         699.0             267.0   \n",
       "4  PSOEH3ZYDMSYARJ5         220.0             210.0   \n",
       "\n",
       "                                               image  is_FK_Advantage_product  \\\n",
       "0  [\"http://img5a.flixcart.com/image/short/u/4/a/...                    False   \n",
       "1  [\"http://img6a.flixcart.com/image/sofa-bed/j/f...                    False   \n",
       "2  [\"http://img5a.flixcart.com/image/shoe/7/z/z/r...                    False   \n",
       "3  [\"http://img5a.flixcart.com/image/short/6/2/h/...                    False   \n",
       "4  [\"http://img5a.flixcart.com/image/pet-shampoo/...                    False   \n",
       "\n",
       "                                         description       product_rating  \\\n",
       "0  Key Features of Alisha Solid Women's Cycling S...  No rating available   \n",
       "1  FabHomeDecor Fabric Double Sofa Bed (Finish Co...  No rating available   \n",
       "2  Key Features of AW Bellies Sandals Wedges Heel...  No rating available   \n",
       "3  Key Features of Alisha Solid Women's Cycling S...  No rating available   \n",
       "4  Specifications of Sicons All Purpose Arnica Do...  No rating available   \n",
       "\n",
       "        overall_rating         brand  \\\n",
       "0  No rating available        Alisha   \n",
       "1  No rating available  FabHomeDecor   \n",
       "2  No rating available            AW   \n",
       "3  No rating available        Alisha   \n",
       "4  No rating available        Sicons   \n",
       "\n",
       "                              product_specifications  \n",
       "0  {\"product_specification\"=>[{\"key\"=>\"Number of ...  \n",
       "1  {\"product_specification\"=>[{\"key\"=>\"Installati...  \n",
       "2  {\"product_specification\"=>[{\"key\"=>\"Ideal For\"...  \n",
       "3  {\"product_specification\"=>[{\"key\"=>\"Number of ...  \n",
       "4  {\"product_specification\"=>[{\"key\"=>\"Pet Type\",...  "
      ]
     },
     "execution_count": 8,
     "metadata": {},
     "output_type": "execute_result"
    }
   ],
   "source": [
    "data_df.head(n=5)\n",
    "#it gives top 5 rows"
   ]
  },
  {
   "cell_type": "code",
   "execution_count": 9,
   "metadata": {},
   "outputs": [
    {
     "data": {
      "text/plain": [
       "<matplotlib.axes._subplots.AxesSubplot at 0x2ad0ea79908>"
      ]
     },
     "execution_count": 9,
     "metadata": {},
     "output_type": "execute_result"
    },
    {
     "data": {
      "image/png": "[encoded data removed]",
      "text/plain": [
       "<Figure size 864x576 with 2 Axes>"
      ]
     },
     "metadata": {
      "needs_background": "light"
     },
     "output_type": "display_data"
    }
   ],
   "source": [
    "## The Brand column has lots of null values.\n",
    "\n",
    "plt.figure(figsize =(12,8))\n",
    "sns.heatmap(data_df.isnull(),yticklabels=False,cmap='Blues',cbar=True)\n"
   ]
  },
  {
   "cell_type": "code",
   "execution_count": 10,
   "metadata": {},
   "outputs": [
    {
     "data": {
      "image/png": "[encoded data removed]",
      "text/plain": [
       "<Figure size 432x288 with 2 Axes>"
      ]
     },
     "metadata": {
      "needs_background": "light"
     },
     "output_type": "display_data"
    }
   ],
   "source": [
    "cmap=sns.diverging_palette(220,220,as_cmap=True)\n",
    "ax=sns.heatmap(data_df.corr(),cmap=cmap)"
   ]
  },
  {
   "cell_type": "code",
   "execution_count": 11,
   "metadata": {},
   "outputs": [],
   "source": [
    "data_df['main_category']=data_df['product_category_tree'].apply(lambda x :x.split('>>')[0][2:len(x.split('>>')[0])-1])\n"
   ]
  },
  {
   "cell_type": "code",
   "execution_count": 12,
   "metadata": {},
   "outputs": [],
   "source": [
    "'''\n",
    "This code block is for spliting train test data\n",
    "\n",
    "'''\n",
    "X_train, X_test, y_train, y_test = train_test_split(processed_df['description'],processed_df['product_category_tree'],test_size=0.3)"
   ]
  },
  {
   "cell_type": "code",
   "execution_count": 13,
   "metadata": {},
   "outputs": [],
   "source": [
    "'''\n",
    "This code block is for converting the training data to vectorized form\n",
    "\n",
    "'''\n",
    "vect = CountVectorizer(stop_words = 'english')\n",
    "# Removing stop words\n",
    "X_train_matrix = vect.fit_transform(X_train) \n",
    "# Converting the train data\n"
   ]
  },
  {
   "cell_type": "code",
   "execution_count": 14,
   "metadata": {},
   "outputs": [
    {
     "name": "stdout",
     "output_type": "stream",
     "text": [
      "0.98007044068379\n",
      "0.9709418837675351\n",
      "              precision    recall  f1-score   support\n",
      "\n",
      "           0       0.95      0.99      0.97       305\n",
      "           1       0.89      0.93      0.91       199\n",
      "           2       1.00      0.99      0.99      1887\n",
      "           3       0.93      0.80      0.86       177\n",
      "           4       0.98      0.98      0.98       351\n",
      "           5       0.96      0.99      0.97       273\n",
      "           6       0.98      0.98      0.98       218\n",
      "           7       0.94      1.00      0.97      1009\n",
      "           8       0.99      0.88      0.93       197\n",
      "           9       0.99      0.90      0.94       374\n",
      "\n",
      "    accuracy                           0.97      4990\n",
      "   macro avg       0.96      0.94      0.95      4990\n",
      "weighted avg       0.97      0.97      0.97      4990\n",
      "\n"
     ]
    }
   ],
   "source": [
    "'''\n",
    "This code block is for training vectorized data and predicting & scoring test data\n",
    "\n",
    "'''\n",
    "clf=MultinomialNB()\n",
    "# Defining model\n",
    "clf.fit(X_train_matrix, y_train)\n",
    "# Fitting to multinomial NB model \n",
    "print(clf.score(X_train_matrix, y_train))\n",
    "# Scoring the trained model (Expected to be above 95 percent)\n",
    "X_test_matrix = vect.transform(X_test) \n",
    "# Converting the test data\n",
    "print (clf.score(X_test_matrix, y_test))\n",
    "# Scoring for the test data\n",
    "predicted_result=clf.predict(X_test_matrix)\n",
    "print(classification_report(y_test,predicted_result))\n",
    "# Printing score \n"
   ]
  },
  {
   "cell_type": "code",
   "execution_count": 15,
   "metadata": {},
   "outputs": [],
   "source": [
    "'''\n",
    "This code block is for converting the training data to Tf-Idf form\n",
    "\n",
    "'''\n",
    "vectorizer = TfidfVectorizer(stop_words = 'english')\n",
    "# Removing stop words\n",
    "X_train_tfidf = vectorizer.fit_transform(X_train)\n",
    "# Converting the train data\n"
   ]
  },
  {
   "cell_type": "code",
   "execution_count": 16,
   "metadata": {},
   "outputs": [
    {
     "name": "stdout",
     "output_type": "stream",
     "text": [
      "0.9595395584571772\n",
      "0.9412825651302605\n"
     ]
    }
   ],
   "source": [
    "'''\n",
    "The code block is for training, predicting & scoring test data\n",
    "\n",
    "'''\n",
    "clf2=MultinomialNB()\n",
    "# Defining model\n",
    "clf2.fit(X_train_tfidf, y_train)\n",
    "# Fitting to multinomial NB model \n",
    "print(clf2.score(X_train_tfidf, y_train))\n",
    "# Scoring the trained model (Expected to be above 95 percent)\n",
    "X_test_tfidf = vectorizer.transform(X_test) \n",
    "# Converting the test data\n",
    "print (clf2.score(X_test_tfidf, y_test))\n",
    "# Printing score \n"
   ]
  },
  {
   "cell_type": "code",
   "execution_count": 17,
   "metadata": {},
   "outputs": [
    {
     "name": "stdout",
     "output_type": "stream",
     "text": [
      "0.9822180225066575\n",
      "0.9825651302605211\n"
     ]
    }
   ],
   "source": [
    "from sklearn.neighbors import KNeighborsClassifier\n",
    "\n",
    "clf=KNeighborsClassifier(n_neighbors=13)\n",
    "clf.fit(X_train_tfidf,y_train)\n",
    "print(clf.score(X_train_tfidf,y_train))\n",
    "X_test_tfidf = vectorizer.transform(X_test)\n",
    "print(clf.score(X_test_tfidf,y_test))\n"
   ]
  },
  {
   "cell_type": "code",
   "execution_count": 19,
   "metadata": {},
   "outputs": [
    {
     "data": {
      "text/plain": [
       "array(['Clothing', 'Beauty and Personal Care'], dtype=object)"
      ]
     },
     "execution_count": 19,
     "metadata": {},
     "output_type": "execute_result"
    }
   ],
   "source": [
    "'''\n",
    "Testing Block: Test your sting. Replace the 'car' string to test\n",
    "'''\n",
    "le.inverse_transform(clf.predict(vect.transform(['saree','lipstick'])))\n"
   ]
  },
  {
   "cell_type": "code",
   "execution_count": 20,
   "metadata": {},
   "outputs": [
    {
     "data": {
      "text/plain": [
       "othin                      6198\n",
       "weller                     3531\n",
       "otwea                      1227\n",
       "biles & Accessorie         1099\n",
       "tomotiv                    1012\n",
       "me Decor & Festive Need     929\n",
       "auty and Personal Car       710\n",
       "me Furnishin                700\n",
       "tchen & Dinin               647\n",
       "mputer                      578\n",
       "Name: main_category, dtype: int64"
      ]
     },
     "execution_count": 20,
     "metadata": {},
     "output_type": "execute_result"
    }
   ],
   "source": [
    "data_df['main_category'].value_counts()[:10].sort_values(ascending=False)"
   ]
  },
  {
   "cell_type": "code",
   "execution_count": 21,
   "metadata": {},
   "outputs": [
    {
     "data": {
      "text/plain": [
       "(array([   0., 1000., 2000., 3000., 4000., 5000., 6000., 7000.]),\n",
       " <a list of 8 Text major ticklabel objects>)"
      ]
     },
     "execution_count": 21,
     "metadata": {},
     "output_type": "execute_result"
    },
    {
     "data": {
      "image/png": "[encoded data removed]",
      "text/plain": [
       "<Figure size 720x720 with 1 Axes>"
      ]
     },
     "metadata": {
      "needs_background": "light"
     },
     "output_type": "display_data"
    }
   ],
   "source": [
    "plt.figure(figsize=(10,10))\n",
    "data_df['main_category'].value_counts()[:20].sort_values(ascending=False).plot(kind='barh')\n",
    "plt.yticks(fontsize=12)\n",
    "plt.xticks(fontsize=12)"
   ]
  },
  {
   "cell_type": "code",
   "execution_count": null,
   "metadata": {},
   "outputs": [],
   "source": []
  }
 ],
 "metadata": {
  "kernelspec": {
   "display_name": "Python 3",
   "language": "python",
   "name": "python3"
  },
  "language_info": {
   "codemirror_mode": {
    "name": "ipython",
    "version": 3
   },
   "file_extension": ".py",
   "mimetype": "text/x-python",
   "name": "python",
   "nbconvert_exporter": "python",
   "pygments_lexer": "ipython3",
   "version": "3.7.4"
  }
 },
 "nbformat": 4,
 "nbformat_minor": 2
}
